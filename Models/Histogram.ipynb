{
 "cells": [
  {
   "cell_type": "code",
   "id": "initial_id",
   "metadata": {
    "collapsed": true
   },
   "source": [
    "import cv2\n",
    "import numpy as np\n",
    "import matplotlib.pyplot as plt\n",
    "from sklearn.cluster import MiniBatchKMeans\n",
    "import random\n",
    "from PIL import Image\n",
    "from skimage.filters import unsharp_mask\n",
    "\n",
    "num_of_centroids=4000\n",
    "num_samples=500"
   ],
   "outputs": [],
   "execution_count": null
  },
  {
   "metadata": {},
   "cell_type": "code",
   "source": [
    "def remove_noise (image):\n",
    "    gray = cv2.cvtColor(image, cv2.COLOR_BGR2GRAY)\n",
    "    X = cv2.bilateralFilter(gray, 15, sigmaColor=10, sigmaSpace=10)\n",
    "    median = cv2.medianBlur(X, 5)\n",
    "    result_2 = unsharp_mask(median, radius=10, amount=4)*255\n",
    "    result_2 = np.uint8(result_2)\n",
    "    sharpen = cv2.Canny(result_2, 100,250)\n",
    "    return sharpen"
   ],
   "id": "ef6588bd787a29b",
   "outputs": [],
   "execution_count": null
  },
  {
   "metadata": {},
   "cell_type": "code",
   "source": [
    "all_des=[]\n",
    "labels = []\n",
    "sift = cv2.SIFT_create(200)\n",
    "\n",
    "for i in range (num_samples):\n",
    "    image = cv2.imread(\"../../fonts-dataset/IBM Plex Sans Arabic/\"+str(i)+\".jpeg\")\n",
    "    removed_noise = remove_noise(image)\n",
    "    kp , descriptors= sift.detectAndCompute(removed_noise,None)\n",
    "    if descriptors is not None:\n",
    "        all_des.append(descriptors)\n",
    "        labels.append(0)\n",
    "    print(\"processing type 0 image\"+str(i))\n",
    "\n",
    "    image = cv2.imread(\"../../fonts-dataset/Lemonada/\"+str(i)+\".jpeg\")\n",
    "    removed_noise = remove_noise(image)\n",
    "    kp , descriptors= sift.detectAndCompute(removed_noise,None)\n",
    "    if descriptors is not None:\n",
    "        all_des.append(descriptors)\n",
    "        labels.append(1)\n",
    "    print(\"processing type 1 image\"+str(i))\n",
    "\n",
    "    image = cv2.imread(\"../../fonts-dataset/Marhey/\"+str(i)+\".jpeg\")\n",
    "    removed_noise = remove_noise(image)\n",
    "    kp , descriptors= sift.detectAndCompute(removed_noise,None)\n",
    "    if descriptors is not None:\n",
    "        all_des.append(descriptors)\n",
    "        labels.append(2)\n",
    "    print(\"processing type 2 image\"+str(i))\n",
    "\n",
    "    image = cv2.imread(\"../../fonts-dataset/Scheherazade New/\"+str(i)+\".jpeg\")\n",
    "    removed_noise = remove_noise(image)\n",
    "    kp , descriptors= sift.detectAndCompute(removed_noise,None)\n",
    "    if descriptors is not None:\n",
    "        all_des.append(descriptors)\n",
    "        labels.append(3)\n",
    "    print(\"processing type 3 image\"+str(i))\n"
   ],
   "id": "224c0e0ef61043cb",
   "outputs": [],
   "execution_count": null
  },
  {
   "metadata": {},
   "cell_type": "code",
   "source": [
    "from sklearn.cluster import KMeans\n",
    "from sklearn.model_selection import train_test_split\n",
    "\n",
    "X_train, X_test, y_train, y_test = train_test_split(all_des, labels, test_size=0.2, random_state=42)\n",
    "\n",
    "# concatenate all descriptors in the training set together\n",
    "descriptors = np.concatenate(X_train, axis=0)\n",
    "kmeans = KMeans(n_clusters=num_of_centroids, random_state=42)\n",
    "kmeans.fit(descriptors)"
   ],
   "id": "e3defbcc53982e94",
   "outputs": [],
   "execution_count": null
  },
  {
   "metadata": {},
   "cell_type": "code",
   "source": [
    "# create frequency histogram for each image in the training set and the test set\n",
    "def create_histogram(descriptor_list, kmeans):\n",
    "    histogram = np.zeros(kmeans.n_clusters)\n",
    "    preds = kmeans.predict(descriptor_list)\n",
    "    for pre in preds:\n",
    "        histogram[pre] += 1\n",
    "    return histogram\n",
    "\n",
    "X_train_hist = []\n",
    "for des in X_train:\n",
    "    hist = create_histogram(des, kmeans)\n",
    "    X_train_hist.append(hist)\n",
    "\n",
    "X_test_hist = []\n",
    "for des in X_test:\n",
    "    hist = create_histogram(des, kmeans)\n",
    "    X_test_hist.append(hist)"
   ],
   "id": "5495febb0b87a467",
   "outputs": [],
   "execution_count": null
  },
  {
   "metadata": {},
   "cell_type": "code",
   "source": [
    "## create a SVM classifier\n",
    "from sklearn.svm import SVC\n",
    "\n",
    "svm = SVC(kernel='poly', C=0.1, random_state=0, coef0=1, degree=4, gamma=10.0,class_weight= None)\n",
    "svm.fit(X_train_hist, y_train)"
   ],
   "id": "22bc9220d914c6c8",
   "outputs": [],
   "execution_count": null
  },
  {
   "metadata": {},
   "cell_type": "code",
   "source": [
    "from sklearn.metrics import accuracy_score\n",
    "\n",
    "y_pred = svm.predict(X_test_hist)\n",
    "accuracy = accuracy_score(y_test, y_pred)\n",
    "print(\"Accuracy: %.2f%%\" % (accuracy * 100.0))"
   ],
   "id": "30fff1258c00ff3f",
   "outputs": [],
   "execution_count": null
  },
  {
   "metadata": {},
   "cell_type": "code",
   "source": "",
   "id": "ef42693a656bb5b0",
   "outputs": [],
   "execution_count": null
  }
 ],
 "metadata": {
  "kernelspec": {
   "display_name": "Python 3",
   "language": "python",
   "name": "python3"
  },
  "language_info": {
   "codemirror_mode": {
    "name": "ipython",
    "version": 2
   },
   "file_extension": ".py",
   "mimetype": "text/x-python",
   "name": "python",
   "nbconvert_exporter": "python",
   "pygments_lexer": "ipython2",
   "version": "2.7.6"
  }
 },
 "nbformat": 4,
 "nbformat_minor": 5
}

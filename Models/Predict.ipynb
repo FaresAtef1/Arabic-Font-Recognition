{
 "cells": [
  {
   "cell_type": "markdown",
   "metadata": {
    "id": "FEdUKOMkb-Hc"
   },
   "source": [
    "# 📊 Evaluation Script"
   ]
  },
  {
   "cell_type": "markdown",
   "metadata": {
    "id": "m0iqW5nGb-He"
   },
   "source": [
    "Let's start by reading the data"
   ]
  },
  {
   "cell_type": "code",
   "metadata": {
    "colab": {
     "base_uri": "https://localhost:8080/"
    },
    "executionInfo": {
     "elapsed": 22131,
     "status": "ok",
     "timestamp": 1715276058234,
     "user": {
      "displayName": "Essam Wisam Fouad",
      "userId": "16730529224092958775"
     },
     "user_tz": -180
    },
    "id": "VbKXtKgVb-Hf",
    "outputId": "c8219e7e-4964-43bd-f23b-1e47525d6804"
   },
   "source": [
    "# DO NOT CHANGE\n",
    "import cv2\n",
    "import numpy as np\n",
    "import glob\n",
    "import time\n",
    "\n",
    "## 1. Fill x_test and y_test:\n",
    "x_test = []\n",
    "y_test = []\n",
    "fonts = [ 'IBM Plex Sans Arabic', 'Lemonada', 'Marhey', 'Scheherazade New']\n",
    "\n",
    "for font in fonts:\n",
    "    for filename in sorted(glob.glob(f'/content/test/{font}/*.jpeg')):\n",
    "        img = cv2.imread(filename, cv2.COLOR_BGR2RGB)\n",
    "        x_test.append(img)\n",
    "        y_test.append(fonts.index(font))\n",
    "\n",
    "# 2. Convert them to Numpy arrays:\n",
    "x_test = np.asarray(x_test)\n",
    "y_test = np.asarray(y_test)\n",
    "\n",
    "print(\"shape of x_data:\", x_test.shape, \"shape of y_data:\", y_test.shape)\n",
    "assert set(y_test) == {0, 1, 2, 3}"
   ],
   "outputs": [],
   "execution_count": null
  },
  {
   "cell_type": "markdown",
   "metadata": {
    "id": "7U7oiHOEb-Hg"
   },
   "source": [
    "Here you define your predict function following this specific interface:"
   ]
  },
  {
   "cell_type": "code",
   "metadata": {
    "id": "yjGpsLkXb-Hg"
   },
   "source": [
    "from skimage.filters import unsharp_mask\n",
    "\n",
    "'''\n",
    "This function takes an RGB image of dimensions (1181, 1181, 3) from the test set and returns integer prediction ∈ {0,1,2,3}\n",
    "'''\n",
    "import pickle\n",
    "\n",
    "def remove_noise (image):\n",
    "    gray = cv2.cvtColor(image, cv2.COLOR_BGR2GRAY)\n",
    "    X = cv2.bilateralFilter(gray, 15, sigmaColor=10, sigmaSpace=10)\n",
    "    median = cv2.medianBlur(X, 5)\n",
    "    result_2 = unsharp_mask(median, radius=10, amount=4)*255\n",
    "    result_2 = np.uint8(result_2)\n",
    "    sharpen = cv2.Canny(result_2, 100,250)\n",
    "    return sharpen\n",
    "\n",
    "def predict_rf (descriptors, rf):\n",
    "    predictions = np.zeros(4)\n",
    "    for des in descriptors:\n",
    "        pred = rf.predict([des])\n",
    "        ind = np.int64(pred[0])\n",
    "        predictions[ind]+=1\n",
    "    return np.argmax(predictions)\n",
    "\n",
    "sift = cv2.SIFT_create(500)\n",
    "\n",
    "def make_prediction(x):\n",
    "    # DEFINE YOUR FUNCTION HERE AND DO NOT CHANGE ANYTHING ELSE IN THE NOTEBOOK\n",
    "    rf = pickle.load(open('rf.pk1' , 'rb'))\n",
    "    removed_noise = remove_noise(x)\n",
    "    kp , descriptors= sift.detectAndCompute(removed_noise,None)\n",
    "    if descriptors is not None:\n",
    "        predic = predict_rf(descriptors, rf)\n",
    "        return predic\n",
    "    else:\n",
    "        return 0\n",
    "\n",
    "# Fill your team number here\n",
    "TEAM_NUM = \"13\""
   ],
   "outputs": [],
   "execution_count": null
  },
  {
   "cell_type": "markdown",
   "metadata": {
    "id": "u3l-tP0Yb-Hh"
   },
   "source": [
    "Now let's compute the accuracy of the model:"
   ]
  },
  {
   "cell_type": "code",
   "metadata": {
    "id": "2JZiig46b-Hh",
    "outputId": "8ad9b236-344e-49a1-f833-58f18d28b452"
   },
   "source": [
    "# DO NOT CHANGE\n",
    "y_pred = []\n",
    "\n",
    "start_time = time.time()\n",
    "for x in x_test:\n",
    "    assert x.shape == (1181, 1181, 3)\n",
    "    ŷ = make_prediction(x)\n",
    "    y_pred.append(ŷ)\n",
    "end_time = time.time()\n",
    "\n",
    "y_pred = np.asarray(y_pred)\n",
    "accuracy = np.mean(y_pred == y_test)\n",
    "total_time = end_time - start_time\n",
    "print(f\"Team {TEAM_NUM} got accuracy: {accuracy:.2%}\")\n",
    "print(f\"Team {TEAM_NUM} got runtime: {total_time:.2%}\")"
   ],
   "outputs": [],
   "execution_count": null
  }
 ],
 "metadata": {
  "colab": {
   "provenance": []
  },
  "kernelspec": {
   "display_name": "Python 3",
   "language": "python",
   "name": "python3"
  },
  "language_info": {
   "codemirror_mode": {
    "name": "ipython",
    "version": 3
   },
   "file_extension": ".py",
   "mimetype": "text/x-python",
   "name": "python",
   "nbconvert_exporter": "python",
   "pygments_lexer": "ipython3",
   "version": "3.9.16"
  }
 },
 "nbformat": 4,
 "nbformat_minor": 0
}

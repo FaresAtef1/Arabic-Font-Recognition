{
 "cells": [
  {
   "cell_type": "code",
   "execution_count": null,
   "id": "c41c4f02",
   "metadata": {},
   "outputs": [],
   "source": [
    "# Extract sift feature from the image\n",
    "\n",
    "import cv2\n",
    "import numpy as np\n",
    "import matplotlib.pyplot as plt\n",
    "from sklearn.cluster import KMeans\n",
    "\n",
    "\n",
    "\n",
    "def remove_noise (image):\n",
    "    gray = cv2.cvtColor(image, cv2.COLOR_BGR2GRAY)\n",
    "    median = cv2.medianBlur(gray, 3)\n",
    "    sharpen = cv2.Canny(median, 100,250)\n",
    "    return sharpen\n",
    "\n",
    "\n",
    "def show_images(images, titles=None):\n",
    "    n_ims = len(images)\n",
    "    if titles is None:\n",
    "        titles = ['(%d)' % i for i in range(1, n_ims + 1)]\n",
    "    fig = plt.figure()\n",
    "    n = 1\n",
    "    for image, title in zip(images, titles):\n",
    "        a = fig.add_subplot(1, n_ims, n)\n",
    "        if image.ndim == 2:\n",
    "            plt.gray()\n",
    "        plt.imshow(image)\n",
    "        a.set_title(title)\n",
    "        n += 1\n",
    "    fig.set_size_inches(np.array(fig.get_size_inches()) * n_ims)\n",
    "    plt.show()\n"
   ]
  },
  {
   "cell_type": "code",
   "execution_count": null,
   "id": "initial_id",
   "metadata": {
    "ExecuteTime": {
     "end_time": "2024-05-04T21:15:00.283514Z",
     "start_time": "2024-05-04T21:14:59.455725Z"
    },
    "collapsed": true
   },
   "outputs": [],
   "source": [
    "\n",
    "\n",
    "all_des=np.empty((1,128))\n",
    "\n",
    "#SIFT\n",
    "sift = cv2.SIFT_create()\n",
    "for i in range (20):\n",
    "    image = cv2.imread(\"../../fonts-dataset/Lemonada/\"+str(i)+\".jpeg\")\n",
    "    removed_noise = remove_noise(image)\n",
    "    kp , descriptors= sift.detectAndCompute(removed_noise,None)\n",
    "    all_des=np.vstack((all_des,descriptors))\n",
    "\n",
    "\n",
    "\n",
    "\n",
    "print((all_des).shape)\n",
    "kmeans=KMeans(n_clusters=200).fit(all_des)\n",
    "\n",
    "img=cv2.drawKeypoints(removed_noise,kp,image)\n",
    "show_images([img])"
   ]
  },
  {
   "cell_type": "code",
   "execution_count": null,
   "id": "56736328253ed568",
   "metadata": {},
   "outputs": [],
   "source": [
    "x=remove_noise(cv2.imread(\"../../fonts-dataset/Lemonada/19.jpeg\"))\n",
    "res=cv2.findContours(x,cv2.RETR_EXTERNAL,cv2.CHAIN_APPROX_NONE)\n",
    "conts=res[-2]\n",
    "image2=cv2.fillPoly(x,pts=conts,color=(255,255,255))\n",
    "show_images([image])\n",
    "kp , descriptors= sift.detectAndCompute(image2,None)\n",
    "img2=cv2.drawKeypoints(image2,kp,image)\n",
    "show_images([img])"
   ]
  },
  {
   "cell_type": "code",
   "execution_count": null,
   "id": "62c90d7f",
   "metadata": {},
   "outputs": [],
   "source": []
  }
 ],
 "metadata": {
  "kernelspec": {
   "display_name": "Python 3",
   "language": "python",
   "name": "python3"
  },
  "language_info": {
   "codemirror_mode": {
    "name": "ipython",
    "version": 3
   },
   "file_extension": ".py",
   "mimetype": "text/x-python",
   "name": "python",
   "nbconvert_exporter": "python",
   "pygments_lexer": "ipython3",
   "version": "3.10.11"
  }
 },
 "nbformat": 4,
 "nbformat_minor": 5
}
